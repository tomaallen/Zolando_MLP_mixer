{
  "nbformat": 4,
  "nbformat_minor": 0,
  "metadata": {
    "colab": {
      "name": "fashion_mnist_MLP_mixer.ipynb",
      "provenance": [],
      "collapsed_sections": []
    },
    "kernelspec": {
      "name": "python3",
      "display_name": "Python 3"
    },
    "language_info": {
      "name": "python"
    },
    "accelerator": "GPU"
  },
  "cells": [
    {
      "cell_type": "markdown",
      "metadata": {
        "id": "VhEjmxVZRgeO"
      },
      "source": [
        "# Coursework: Fashion MNIST MLP\n",
        "**NOTE:** Please save my_utils1.py in folder 'content/gdrive/MyDrive/Colab Notebooks'"
      ]
    },
    {
      "cell_type": "markdown",
      "metadata": {
        "id": "Ij-jLuahRgeX"
      },
      "source": [
        "## The Task\n",
        "The aim of this project is to use a predefined neural architecture to classify images from the Zolando fashion-mnist dataset with the highest accuracy. Modifications will be made to the network architecture and training pipeline to improve the model accuracy as far as possible."
      ]
    },
    {
      "cell_type": "markdown",
      "metadata": {
        "id": "_ipz4_Uw0rcJ"
      },
      "source": [
        "### Subtasks\n",
        "1. Read dataset and create dataloaders\n",
        "1. Create the model\n",
        "1. Create the loss and optimizer\n",
        "1. Write the training script\n",
        " 1. Curves for training loss, training accuracy and validation (test) accuracy\n",
        " 1. Hyperparameter details\n",
        "\n",
        "1. Obtain final model training loss, training accuracy and test accuracy"
      ]
    },
    {
      "cell_type": "markdown",
      "source": [
        "### Final Training Pipeline\n",
        "* loss: cross entropy loss\n",
        "* initialisation of weights: Xavier normal\n",
        "* optimizer: Adam\n",
        "* training data augmentation: random resized crops (in my_utils1.py)\n",
        "* learning rate scheduler: exponential"
      ],
      "metadata": {
        "id": "qPgUQx9xU-m1"
      }
    },
    {
      "cell_type": "markdown",
      "metadata": {
        "id": "teIHhAFVRgeX"
      },
      "source": [
        "### Final Network Architecture\n",
        "Additions to original model in **bold**\n",
        "***\n",
        "Stem:\n",
        "- Create N non-overlapping patches from 28x28 image from fashion-mnist\n",
        "- Vectorise each patch\n",
        "- Transform each patch vector into a feature vector using the same transformation\n",
        " - **Design decision:** use a single linear layer for this transformation\n",
        "- Store as tensor\n",
        "***\n",
        "Backbone:\n",
        "- N blocks consisting of:\n",
        " - **Layer Normalisation**\n",
        " - Transpose input\n",
        " - Multi-layer perceptron 1\n",
        "   - Linear layer\n",
        "   - Non-linear activation function (ReLU)\n",
        "   - Linear layer\n",
        " - Transpose output of MLP 1\n",
        " - **Layer Normalisation**\n",
        " - Multi-layer perceptron 2\n",
        "   - Linear layer\n",
        "   - Non-linear activation function (ReLU)\n",
        "   - Linear Layer\n",
        "\n",
        "- **Dropout layer**\n",
        "***\n",
        "Classifier:\n",
        "- Compute mean feature across patches\n",
        "- **Design decision:** single linear layer to output of size 10\n",
        "- **Design decision:** softmax classifier (implemented through CrossEntropyLoss)\n"
      ]
    },
    {
      "cell_type": "markdown",
      "source": [
        "## Set up Google Drive and Prerequisites"
      ],
      "metadata": {
        "id": "Ym5UWZ7MTG-M"
      }
    },
    {
      "cell_type": "code",
      "metadata": {
        "id": "SYeUl0GqTiPg",
        "colab": {
          "base_uri": "https://localhost:8080/"
        },
        "outputId": "e6a142f5-63a2-4e52-bc3f-e08522469446"
      },
      "source": [
        "# Setting up google drive\n",
        "# This code is taken from the labs\n",
        "from google.colab import drive\n",
        "drive.mount('/content/gdrive', force_remount=True)\n",
        "import sys\n",
        "sys.path.append('/content/gdrive/MyDrive/Colab Notebooks')"
      ],
      "execution_count": null,
      "outputs": [
        {
          "output_type": "stream",
          "name": "stdout",
          "text": [
            "Mounted at /content/gdrive\n"
          ]
        }
      ]
    },
    {
      "cell_type": "code",
      "metadata": {
        "id": "gKJRukyjTeTR"
      },
      "source": [
        "# Import libraries\n",
        "# This code is taken from the labs\n",
        "import my_utils1 as mu   # my_utils is editted to include training data augmentation\n",
        "import torch\n",
        "from torch import nn\n",
        "import torch.optim.lr_scheduler as sc"
      ],
      "execution_count": null,
      "outputs": []
    },
    {
      "cell_type": "markdown",
      "metadata": {
        "id": "ZuGxje7cTeTW"
      },
      "source": [
        "## 1. Read Dataset and Create Data Loaders"
      ]
    },
    {
      "cell_type": "code",
      "metadata": {
        "id": "i9fJJAC9TeTW",
        "colab": {
          "base_uri": "https://localhost:8080/"
        },
        "outputId": "e763b414-1c10-4710-fd1a-ab7179f9a5f8"
      },
      "source": [
        "# This code is taken from the labs\n",
        "batch_size = 256\n",
        "train_iter, test_iter = mu.load_data_fashion_mnist(batch_size)"
      ],
      "execution_count": null,
      "outputs": [
        {
          "output_type": "stream",
          "name": "stderr",
          "text": [
            "/usr/local/lib/python3.7/dist-packages/torch/utils/data/dataloader.py:481: UserWarning: This DataLoader will create 4 worker processes in total. Our suggested max number of worker in current system is 2, which is smaller than what this DataLoader is going to create. Please be aware that excessive worker creation might get DataLoader running slow or even freeze, lower the worker number to avoid potential slowness/freeze if necessary.\n",
            "  cpuset_checked))\n"
          ]
        }
      ]
    },
    {
      "cell_type": "markdown",
      "metadata": {
        "id": "EknCtScjTeTX"
      },
      "source": [
        "## 2. Create the Model"
      ]
    },
    {
      "cell_type": "code",
      "source": [
        "# the VGG block code from labs was used as a starting point for the\n",
        "# backbone block class below, but was changed sufficiently that it no longer\n",
        "# resembles the original code\n",
        "class backbone_block(nn.Module):\n",
        "  def __init__(self, input_features, hidden_features, output_features, num_patches):\n",
        "    super(backbone_block, self).__init__()\n",
        "    self.add_module('linear1', nn.Linear(num_patches, num_patches))\n",
        "    self.add_module('linear2', nn.Linear(num_patches, num_patches))\n",
        "    self.add_module('linear3', nn.Linear(input_features, hidden_features))\n",
        "    self.add_module('linear4', nn.Linear(hidden_features, output_features))\n",
        "    self.add_module('relu', nn.ReLU())\n",
        "    self.add_module('layernorm1', nn.LayerNorm(input_features))\n",
        "    self.add_module('layernorm2', nn.LayerNorm(input_features))\n",
        "\n",
        "  def forward(self, x):\n",
        "    # layer normalisation was inspired by Tolstikhin et al.’s (2021) MLP mixer\n",
        "    # architecture - for reference see accompanying documentation\n",
        "    x = self._modules['layernorm1'](x)   # normalisation over features\n",
        "\n",
        "    # MLP 1 - patch mixing\n",
        "    x = torch.transpose(x, 1, 2)   # gives tensor of size (n_batches, n_features, n_patches)\n",
        "    x = self._modules['linear1'](x)\n",
        "    x = self._modules['relu'](x)\n",
        "    x = self._modules['linear2'](x)\n",
        "    x = torch.transpose(x, 1, 2)   # gives tensor of size (n_batches, n_patches, n_features)\n",
        "\n",
        "    x = self._modules['layernorm2'](x)   # normalisation over features\n",
        "\n",
        "    # MLP 2 - feature mixing\n",
        "    x = self._modules['linear3'](x)\n",
        "    x = self._modules['relu'](x)\n",
        "    x = self._modules['linear4'](x)\n",
        "    out = x\n",
        "    return out"
      ],
      "metadata": {
        "id": "z2qm2_Yecdf0"
      },
      "execution_count": null,
      "outputs": []
    },
    {
      "cell_type": "code",
      "metadata": {
        "id": "GzstJPBqTeTX"
      },
      "source": [
        "class Net(nn.Module):\n",
        "  def __init__(self, num_patches, patch_size, num_features, num_outputs, block_arch):\n",
        "    super(Net, self).__init__()\n",
        "    self.num_patches = num_patches\n",
        "    self.patch_size = patch_size\n",
        "    self.num_features = num_features\n",
        "    self.num_outputs = num_outputs\n",
        "    self.block_arch = block_arch\n",
        "\n",
        "    # Stem\n",
        "    self.uf = nn.Unfold(patch_size, stride=patch_size)   # generate patches and vectorise\n",
        "    self.get_features = nn.Linear(patch_size**2, num_features)   # generate features for each patch using linear layer\n",
        "\n",
        "    # Backbone\n",
        "    # This code is adapted from the VGG labs\n",
        "    input_features = num_features\n",
        "    for i, (hidden_features, output_features) in enumerate(block_arch):\n",
        "      self.add_module('block{0}'.format(i), \n",
        "                      backbone_block(input_features, hidden_features, \n",
        "                                    output_features, num_patches))\n",
        "      input_features = output_features\n",
        "\n",
        "    self.dropout = nn.Dropout(0.25)\n",
        "\n",
        "    # Classifier\n",
        "    self.mean = nn.AvgPool2d((num_patches, 1))\n",
        "    self.fl = nn.Flatten()\n",
        "    self.lin_classify = nn.Linear(block_arch[len(block_arch)-1][1], output_features)\n",
        "\n",
        "  def forward(self, x):\n",
        "    # Stem\n",
        "    x = self.uf(x)   # gives tensor of size (n_batches, patch_size**2, n_patches)\n",
        "    x = torch.transpose(x, 1, 2)   # gives tensor of size (n_batches, n_patches, patch_size**2)\n",
        "    x = self.get_features(x)   # gives tensor of size (n_batches, n_patches, n_features)\n",
        "\n",
        "    # Backbone\n",
        "    for i in range(len(self.block_arch)):\n",
        "      x = self._modules['block{0}'.format(i)](x)   # generate N backbone blocks as specified by block_arch\n",
        "\n",
        "    x = self.dropout(x)\n",
        "\n",
        "    # classifier\n",
        "    x = self.mean(x)   # take average of features across all patches\n",
        "    x = self.fl(x)   # remove patch dimension\n",
        "    x = self.lin_classify(x)   # linear (fully-connected) classifier - softmax implemented in loss function\n",
        "    return x"
      ],
      "execution_count": null,
      "outputs": []
    },
    {
      "cell_type": "markdown",
      "source": [
        "### Initialise model"
      ],
      "metadata": {
        "id": "aUFVXp9bTn9P"
      }
    },
    {
      "cell_type": "code",
      "metadata": {
        "id": "QLQCSd34TeTX",
        "colab": {
          "base_uri": "https://localhost:8080/"
        },
        "outputId": "cf2757b9-15e9-4da8-88ad-f1ceee467458"
      },
      "source": [
        "# This code is adapted from the labs\n",
        "def init_weights(m):\n",
        "    if type(m) == nn.Linear or type(m) == nn.Conv2d:\n",
        "        torch.nn.init.xavier_normal_(m.weight)          \n",
        "\n",
        "num_patches = 4\n",
        "patch_size = 14   # 14x14\n",
        "num_features = 512   # generated in stem\n",
        "num_outputs = 10   # 10 classes of clothes in fashion-mnist\n",
        "block_arch = ((512, 256),(128, 64))   # for each block: (MLP2_hidden_units, MLP2_output_units)\n",
        "model = Net(num_patches, patch_size, num_features, num_outputs, block_arch)\n",
        "\n",
        "model.apply(init_weights);\n",
        "print(model)"
      ],
      "execution_count": null,
      "outputs": [
        {
          "output_type": "stream",
          "name": "stdout",
          "text": [
            "Net(\n",
            "  (uf): Unfold(kernel_size=14, dilation=1, padding=0, stride=14)\n",
            "  (get_features): Linear(in_features=196, out_features=512, bias=True)\n",
            "  (block0): backbone_block(\n",
            "    (linear1): Linear(in_features=4, out_features=4, bias=True)\n",
            "    (linear2): Linear(in_features=4, out_features=4, bias=True)\n",
            "    (linear3): Linear(in_features=512, out_features=512, bias=True)\n",
            "    (linear4): Linear(in_features=512, out_features=256, bias=True)\n",
            "    (relu): ReLU()\n",
            "    (layernorm1): LayerNorm((512,), eps=1e-05, elementwise_affine=True)\n",
            "    (layernorm2): LayerNorm((512,), eps=1e-05, elementwise_affine=True)\n",
            "  )\n",
            "  (block1): backbone_block(\n",
            "    (linear1): Linear(in_features=4, out_features=4, bias=True)\n",
            "    (linear2): Linear(in_features=4, out_features=4, bias=True)\n",
            "    (linear3): Linear(in_features=256, out_features=128, bias=True)\n",
            "    (linear4): Linear(in_features=128, out_features=64, bias=True)\n",
            "    (relu): ReLU()\n",
            "    (layernorm1): LayerNorm((256,), eps=1e-05, elementwise_affine=True)\n",
            "    (layernorm2): LayerNorm((256,), eps=1e-05, elementwise_affine=True)\n",
            "  )\n",
            "  (dropout): Dropout(p=0.25, inplace=False)\n",
            "  (mean): AvgPool2d(kernel_size=(4, 1), stride=(4, 1), padding=0)\n",
            "  (fl): Flatten(start_dim=1, end_dim=-1)\n",
            "  (lin_classify): Linear(in_features=64, out_features=64, bias=True)\n",
            ")\n"
          ]
        }
      ]
    },
    {
      "cell_type": "markdown",
      "metadata": {
        "id": "3vwPW1iETeTY"
      },
      "source": [
        "## 3. Loss and Optimization Algorithm"
      ]
    },
    {
      "cell_type": "code",
      "metadata": {
        "id": "TRRadXXxTeTY"
      },
      "source": [
        "# This code is taken from the labs - I added an exponential learning rate scheduler\n",
        "loss = nn.CrossEntropyLoss()\n",
        "lr = 0.001\n",
        "optimizer = torch.optim.Adam(model.parameters(), lr=lr)\n",
        "scheduler = sc.ExponentialLR(optimizer, gamma=0.9)"
      ],
      "execution_count": null,
      "outputs": []
    },
    {
      "cell_type": "markdown",
      "metadata": {
        "id": "ULuAOHDXTeTY"
      },
      "source": [
        "## 4. Training Script"
      ]
    },
    {
      "cell_type": "code",
      "metadata": {
        "id": "EJr4qkTJTeTY",
        "scrolled": false
      },
      "source": [
        "num_epochs = 20"
      ],
      "execution_count": null,
      "outputs": []
    },
    {
      "cell_type": "code",
      "metadata": {
        "id": "sickwpz5VDCT"
      },
      "source": [
        "# This code is taken from the labs - I added an exponential learning rate scheduler\n",
        "def trainf(net, train_iter, test_iter, loss, num_epochs, optimizer, scheduler, device):\n",
        "    \"\"\"Train and evaluate a model with CPU or GPU.\"\"\"\n",
        "    net.to(device)\n",
        "    animator = mu.d2l.Animator(xlabel='epoch', xlim=[0, num_epochs],\n",
        "                            legend=['train loss', 'train acc', 'test acc'])\n",
        "    timer = mu.d2l.Timer()\n",
        "\n",
        "    for epoch in range(num_epochs):\n",
        "        metric = mu.d2l.Accumulator(3)  # train_loss, train_acc, num_examples\n",
        "        for i, (X, y) in enumerate(train_iter):\n",
        "            timer.start()\n",
        "            net.train()\n",
        "            optimizer.zero_grad()\n",
        "            X, y = X.to(device), y.to(device)\n",
        "            y_hat = net(X)\n",
        "            l = loss(y_hat, y)\n",
        "            l.backward()\n",
        "            optimizer.step()\n",
        "            with torch.no_grad():\n",
        "                metric.add(l*X.shape[0], mu.d2l.accuracy(y_hat, y), X.shape[0])\n",
        "            timer.stop()\n",
        "            train_loss, train_acc = metric[0]/metric[2], metric[1]/metric[2]\n",
        "            if (i+1) % 50 == 0:\n",
        "                animator.add(epoch + i/len(train_iter),\n",
        "                              (train_loss, train_acc, None))\n",
        "        test_acc = mu.evaluate_accuracy_gpu(net, test_iter)\n",
        "        animator.add(epoch+1, (None, None, test_acc))\n",
        "        scheduler.step()   # added scheduler\n",
        "\n",
        "    print(f'loss {train_loss:.3f}, train acc {train_acc:.3f}, '\n",
        "          f'test acc {test_acc:.3f}')\n",
        "    print(f'{metric[2] * num_epochs / timer.sum():.1f} examples/sec '\n",
        "          f'on {str(device)}')"
      ],
      "execution_count": null,
      "outputs": []
    },
    {
      "cell_type": "markdown",
      "source": [
        "## 5. Train and Obtain Final Metrics"
      ],
      "metadata": {
        "id": "3fyFsQ8UVN-K"
      }
    },
    {
      "cell_type": "code",
      "metadata": {
        "id": "U1votYgZVFvm",
        "colab": {
          "base_uri": "https://localhost:8080/",
          "height": 302
        },
        "outputId": "77361480-3ca3-41a8-a41d-5bd185c55be6"
      },
      "source": [
        "# code taken from labs\n",
        "device = torch.device('cuda' if torch.cuda.is_available() else 'cpu') #choose device: cpu or gpu\n",
        "print('Using device:', device)\n",
        "if torch.cuda.is_available(): print(torch.cuda.get_device_name(0)) # print the type of the chosen gpu\n",
        "trainf(model, train_iter, test_iter, loss, num_epochs, optimizer, scheduler, device)"
      ],
      "execution_count": null,
      "outputs": [
        {
          "output_type": "stream",
          "name": "stdout",
          "text": [
            "loss 0.179, train acc 0.933, test acc 0.900\n",
            "2175.7 examples/sec on cpu\n"
          ]
        },
        {
          "output_type": "display_data",
          "data": {
            "text/plain": [
              "<Figure size 252x180 with 1 Axes>"
            ],
            "image/svg+xml": "<?xml version=\"1.0\" encoding=\"utf-8\" standalone=\"no\"?>\n<!DOCTYPE svg PUBLIC \"-//W3C//DTD SVG 1.1//EN\"\n  \"http://www.w3.org/Graphics/SVG/1.1/DTD/svg11.dtd\">\n<!-- Created with matplotlib (https://matplotlib.org/) -->\n<svg height=\"183.191566pt\" version=\"1.1\" viewBox=\"0 0 238.965625 183.191566\" width=\"238.965625pt\" xmlns=\"http://www.w3.org/2000/svg\" xmlns:xlink=\"http://www.w3.org/1999/xlink\">\n <defs>\n  <style type=\"text/css\">\n*{stroke-linecap:butt;stroke-linejoin:round;}\n  </style>\n </defs>\n <g id=\"figure_1\">\n  <g id=\"patch_1\">\n   <path d=\"M 0 183.191566 \nL 238.965625 183.191566 \nL 238.965625 0 \nL 0 0 \nz\n\" style=\"fill:none;\"/>\n  </g>\n  <g id=\"axes_1\">\n   <g id=\"patch_2\">\n    <path d=\"M 30.103125 145.635316 \nL 225.403125 145.635316 \nL 225.403125 9.735316 \nL 30.103125 9.735316 \nz\n\" style=\"fill:#ffffff;\"/>\n   </g>\n   <g id=\"matplotlib.axis_1\">\n    <g id=\"xtick_1\">\n     <g id=\"line2d_1\">\n      <path clip-path=\"url(#pc12cc56805)\" d=\"M 30.103125 145.635316 \nL 30.103125 9.735316 \n\" style=\"fill:none;stroke:#b0b0b0;stroke-linecap:square;stroke-width:0.8;\"/>\n     </g>\n     <g id=\"line2d_2\">\n      <defs>\n       <path d=\"M 0 0 \nL 0 3.5 \n\" id=\"m32e179eb1c\" style=\"stroke:#000000;stroke-width:0.8;\"/>\n      </defs>\n      <g>\n       <use style=\"stroke:#000000;stroke-width:0.8;\" x=\"30.103125\" xlink:href=\"#m32e179eb1c\" y=\"145.635316\"/>\n      </g>\n     </g>\n     <g id=\"text_1\">\n      <!-- 0 -->\n      <defs>\n       <path d=\"M 31.78125 66.40625 \nQ 24.171875 66.40625 20.328125 58.90625 \nQ 16.5 51.421875 16.5 36.375 \nQ 16.5 21.390625 20.328125 13.890625 \nQ 24.171875 6.390625 31.78125 6.390625 \nQ 39.453125 6.390625 43.28125 13.890625 \nQ 47.125 21.390625 47.125 36.375 \nQ 47.125 51.421875 43.28125 58.90625 \nQ 39.453125 66.40625 31.78125 66.40625 \nz\nM 31.78125 74.21875 \nQ 44.046875 74.21875 50.515625 64.515625 \nQ 56.984375 54.828125 56.984375 36.375 \nQ 56.984375 17.96875 50.515625 8.265625 \nQ 44.046875 -1.421875 31.78125 -1.421875 \nQ 19.53125 -1.421875 13.0625 8.265625 \nQ 6.59375 17.96875 6.59375 36.375 \nQ 6.59375 54.828125 13.0625 64.515625 \nQ 19.53125 74.21875 31.78125 74.21875 \nz\n\" id=\"DejaVuSans-48\"/>\n      </defs>\n      <g transform=\"translate(26.921875 160.233754)scale(0.1 -0.1)\">\n       <use xlink:href=\"#DejaVuSans-48\"/>\n      </g>\n     </g>\n    </g>\n    <g id=\"xtick_2\">\n     <g id=\"line2d_3\">\n      <path clip-path=\"url(#pc12cc56805)\" d=\"M 78.928125 145.635316 \nL 78.928125 9.735316 \n\" style=\"fill:none;stroke:#b0b0b0;stroke-linecap:square;stroke-width:0.8;\"/>\n     </g>\n     <g id=\"line2d_4\">\n      <g>\n       <use style=\"stroke:#000000;stroke-width:0.8;\" x=\"78.928125\" xlink:href=\"#m32e179eb1c\" y=\"145.635316\"/>\n      </g>\n     </g>\n     <g id=\"text_2\">\n      <!-- 5 -->\n      <defs>\n       <path d=\"M 10.796875 72.90625 \nL 49.515625 72.90625 \nL 49.515625 64.59375 \nL 19.828125 64.59375 \nL 19.828125 46.734375 \nQ 21.96875 47.46875 24.109375 47.828125 \nQ 26.265625 48.1875 28.421875 48.1875 \nQ 40.625 48.1875 47.75 41.5 \nQ 54.890625 34.8125 54.890625 23.390625 \nQ 54.890625 11.625 47.5625 5.09375 \nQ 40.234375 -1.421875 26.90625 -1.421875 \nQ 22.3125 -1.421875 17.546875 -0.640625 \nQ 12.796875 0.140625 7.71875 1.703125 \nL 7.71875 11.625 \nQ 12.109375 9.234375 16.796875 8.0625 \nQ 21.484375 6.890625 26.703125 6.890625 \nQ 35.15625 6.890625 40.078125 11.328125 \nQ 45.015625 15.765625 45.015625 23.390625 \nQ 45.015625 31 40.078125 35.4375 \nQ 35.15625 39.890625 26.703125 39.890625 \nQ 22.75 39.890625 18.8125 39.015625 \nQ 14.890625 38.140625 10.796875 36.28125 \nz\n\" id=\"DejaVuSans-53\"/>\n      </defs>\n      <g transform=\"translate(75.746875 160.233754)scale(0.1 -0.1)\">\n       <use xlink:href=\"#DejaVuSans-53\"/>\n      </g>\n     </g>\n    </g>\n    <g id=\"xtick_3\">\n     <g id=\"line2d_5\">\n      <path clip-path=\"url(#pc12cc56805)\" d=\"M 127.753125 145.635316 \nL 127.753125 9.735316 \n\" style=\"fill:none;stroke:#b0b0b0;stroke-linecap:square;stroke-width:0.8;\"/>\n     </g>\n     <g id=\"line2d_6\">\n      <g>\n       <use style=\"stroke:#000000;stroke-width:0.8;\" x=\"127.753125\" xlink:href=\"#m32e179eb1c\" y=\"145.635316\"/>\n      </g>\n     </g>\n     <g id=\"text_3\">\n      <!-- 10 -->\n      <defs>\n       <path d=\"M 12.40625 8.296875 \nL 28.515625 8.296875 \nL 28.515625 63.921875 \nL 10.984375 60.40625 \nL 10.984375 69.390625 \nL 28.421875 72.90625 \nL 38.28125 72.90625 \nL 38.28125 8.296875 \nL 54.390625 8.296875 \nL 54.390625 0 \nL 12.40625 0 \nz\n\" id=\"DejaVuSans-49\"/>\n      </defs>\n      <g transform=\"translate(121.390625 160.233754)scale(0.1 -0.1)\">\n       <use xlink:href=\"#DejaVuSans-49\"/>\n       <use x=\"63.623047\" xlink:href=\"#DejaVuSans-48\"/>\n      </g>\n     </g>\n    </g>\n    <g id=\"xtick_4\">\n     <g id=\"line2d_7\">\n      <path clip-path=\"url(#pc12cc56805)\" d=\"M 176.578125 145.635316 \nL 176.578125 9.735316 \n\" style=\"fill:none;stroke:#b0b0b0;stroke-linecap:square;stroke-width:0.8;\"/>\n     </g>\n     <g id=\"line2d_8\">\n      <g>\n       <use style=\"stroke:#000000;stroke-width:0.8;\" x=\"176.578125\" xlink:href=\"#m32e179eb1c\" y=\"145.635316\"/>\n      </g>\n     </g>\n     <g id=\"text_4\">\n      <!-- 15 -->\n      <g transform=\"translate(170.215625 160.233754)scale(0.1 -0.1)\">\n       <use xlink:href=\"#DejaVuSans-49\"/>\n       <use x=\"63.623047\" xlink:href=\"#DejaVuSans-53\"/>\n      </g>\n     </g>\n    </g>\n    <g id=\"xtick_5\">\n     <g id=\"line2d_9\">\n      <path clip-path=\"url(#pc12cc56805)\" d=\"M 225.403125 145.635316 \nL 225.403125 9.735316 \n\" style=\"fill:none;stroke:#b0b0b0;stroke-linecap:square;stroke-width:0.8;\"/>\n     </g>\n     <g id=\"line2d_10\">\n      <g>\n       <use style=\"stroke:#000000;stroke-width:0.8;\" x=\"225.403125\" xlink:href=\"#m32e179eb1c\" y=\"145.635316\"/>\n      </g>\n     </g>\n     <g id=\"text_5\">\n      <!-- 20 -->\n      <defs>\n       <path d=\"M 19.1875 8.296875 \nL 53.609375 8.296875 \nL 53.609375 0 \nL 7.328125 0 \nL 7.328125 8.296875 \nQ 12.9375 14.109375 22.625 23.890625 \nQ 32.328125 33.6875 34.8125 36.53125 \nQ 39.546875 41.84375 41.421875 45.53125 \nQ 43.3125 49.21875 43.3125 52.78125 \nQ 43.3125 58.59375 39.234375 62.25 \nQ 35.15625 65.921875 28.609375 65.921875 \nQ 23.96875 65.921875 18.8125 64.3125 \nQ 13.671875 62.703125 7.8125 59.421875 \nL 7.8125 69.390625 \nQ 13.765625 71.78125 18.9375 73 \nQ 24.125 74.21875 28.421875 74.21875 \nQ 39.75 74.21875 46.484375 68.546875 \nQ 53.21875 62.890625 53.21875 53.421875 \nQ 53.21875 48.921875 51.53125 44.890625 \nQ 49.859375 40.875 45.40625 35.40625 \nQ 44.1875 33.984375 37.640625 27.21875 \nQ 31.109375 20.453125 19.1875 8.296875 \nz\n\" id=\"DejaVuSans-50\"/>\n      </defs>\n      <g transform=\"translate(219.040625 160.233754)scale(0.1 -0.1)\">\n       <use xlink:href=\"#DejaVuSans-50\"/>\n       <use x=\"63.623047\" xlink:href=\"#DejaVuSans-48\"/>\n      </g>\n     </g>\n    </g>\n    <g id=\"text_6\">\n     <!-- epoch -->\n     <defs>\n      <path d=\"M 56.203125 29.59375 \nL 56.203125 25.203125 \nL 14.890625 25.203125 \nQ 15.484375 15.921875 20.484375 11.0625 \nQ 25.484375 6.203125 34.421875 6.203125 \nQ 39.59375 6.203125 44.453125 7.46875 \nQ 49.3125 8.734375 54.109375 11.28125 \nL 54.109375 2.78125 \nQ 49.265625 0.734375 44.1875 -0.34375 \nQ 39.109375 -1.421875 33.890625 -1.421875 \nQ 20.796875 -1.421875 13.15625 6.1875 \nQ 5.515625 13.8125 5.515625 26.8125 \nQ 5.515625 40.234375 12.765625 48.109375 \nQ 20.015625 56 32.328125 56 \nQ 43.359375 56 49.78125 48.890625 \nQ 56.203125 41.796875 56.203125 29.59375 \nz\nM 47.21875 32.234375 \nQ 47.125 39.59375 43.09375 43.984375 \nQ 39.0625 48.390625 32.421875 48.390625 \nQ 24.90625 48.390625 20.390625 44.140625 \nQ 15.875 39.890625 15.1875 32.171875 \nz\n\" id=\"DejaVuSans-101\"/>\n      <path d=\"M 18.109375 8.203125 \nL 18.109375 -20.796875 \nL 9.078125 -20.796875 \nL 9.078125 54.6875 \nL 18.109375 54.6875 \nL 18.109375 46.390625 \nQ 20.953125 51.265625 25.265625 53.625 \nQ 29.59375 56 35.59375 56 \nQ 45.5625 56 51.78125 48.09375 \nQ 58.015625 40.1875 58.015625 27.296875 \nQ 58.015625 14.40625 51.78125 6.484375 \nQ 45.5625 -1.421875 35.59375 -1.421875 \nQ 29.59375 -1.421875 25.265625 0.953125 \nQ 20.953125 3.328125 18.109375 8.203125 \nz\nM 48.6875 27.296875 \nQ 48.6875 37.203125 44.609375 42.84375 \nQ 40.53125 48.484375 33.40625 48.484375 \nQ 26.265625 48.484375 22.1875 42.84375 \nQ 18.109375 37.203125 18.109375 27.296875 \nQ 18.109375 17.390625 22.1875 11.75 \nQ 26.265625 6.109375 33.40625 6.109375 \nQ 40.53125 6.109375 44.609375 11.75 \nQ 48.6875 17.390625 48.6875 27.296875 \nz\n\" id=\"DejaVuSans-112\"/>\n      <path d=\"M 30.609375 48.390625 \nQ 23.390625 48.390625 19.1875 42.75 \nQ 14.984375 37.109375 14.984375 27.296875 \nQ 14.984375 17.484375 19.15625 11.84375 \nQ 23.34375 6.203125 30.609375 6.203125 \nQ 37.796875 6.203125 41.984375 11.859375 \nQ 46.1875 17.53125 46.1875 27.296875 \nQ 46.1875 37.015625 41.984375 42.703125 \nQ 37.796875 48.390625 30.609375 48.390625 \nz\nM 30.609375 56 \nQ 42.328125 56 49.015625 48.375 \nQ 55.71875 40.765625 55.71875 27.296875 \nQ 55.71875 13.875 49.015625 6.21875 \nQ 42.328125 -1.421875 30.609375 -1.421875 \nQ 18.84375 -1.421875 12.171875 6.21875 \nQ 5.515625 13.875 5.515625 27.296875 \nQ 5.515625 40.765625 12.171875 48.375 \nQ 18.84375 56 30.609375 56 \nz\n\" id=\"DejaVuSans-111\"/>\n      <path d=\"M 48.78125 52.59375 \nL 48.78125 44.1875 \nQ 44.96875 46.296875 41.140625 47.34375 \nQ 37.3125 48.390625 33.40625 48.390625 \nQ 24.65625 48.390625 19.8125 42.84375 \nQ 14.984375 37.3125 14.984375 27.296875 \nQ 14.984375 17.28125 19.8125 11.734375 \nQ 24.65625 6.203125 33.40625 6.203125 \nQ 37.3125 6.203125 41.140625 7.25 \nQ 44.96875 8.296875 48.78125 10.40625 \nL 48.78125 2.09375 \nQ 45.015625 0.34375 40.984375 -0.53125 \nQ 36.96875 -1.421875 32.421875 -1.421875 \nQ 20.0625 -1.421875 12.78125 6.34375 \nQ 5.515625 14.109375 5.515625 27.296875 \nQ 5.515625 40.671875 12.859375 48.328125 \nQ 20.21875 56 33.015625 56 \nQ 37.15625 56 41.109375 55.140625 \nQ 45.0625 54.296875 48.78125 52.59375 \nz\n\" id=\"DejaVuSans-99\"/>\n      <path d=\"M 54.890625 33.015625 \nL 54.890625 0 \nL 45.90625 0 \nL 45.90625 32.71875 \nQ 45.90625 40.484375 42.875 44.328125 \nQ 39.84375 48.1875 33.796875 48.1875 \nQ 26.515625 48.1875 22.3125 43.546875 \nQ 18.109375 38.921875 18.109375 30.90625 \nL 18.109375 0 \nL 9.078125 0 \nL 9.078125 75.984375 \nL 18.109375 75.984375 \nL 18.109375 46.1875 \nQ 21.34375 51.125 25.703125 53.5625 \nQ 30.078125 56 35.796875 56 \nQ 45.21875 56 50.046875 50.171875 \nQ 54.890625 44.34375 54.890625 33.015625 \nz\n\" id=\"DejaVuSans-104\"/>\n     </defs>\n     <g transform=\"translate(112.525 173.911879)scale(0.1 -0.1)\">\n      <use xlink:href=\"#DejaVuSans-101\"/>\n      <use x=\"61.523438\" xlink:href=\"#DejaVuSans-112\"/>\n      <use x=\"125\" xlink:href=\"#DejaVuSans-111\"/>\n      <use x=\"186.181641\" xlink:href=\"#DejaVuSans-99\"/>\n      <use x=\"241.162109\" xlink:href=\"#DejaVuSans-104\"/>\n     </g>\n    </g>\n   </g>\n   <g id=\"matplotlib.axis_2\">\n    <g id=\"ytick_1\">\n     <g id=\"line2d_11\">\n      <path clip-path=\"url(#pc12cc56805)\" d=\"M 30.103125 136.265484 \nL 225.403125 136.265484 \n\" style=\"fill:none;stroke:#b0b0b0;stroke-linecap:square;stroke-width:0.8;\"/>\n     </g>\n     <g id=\"line2d_12\">\n      <defs>\n       <path d=\"M 0 0 \nL -3.5 0 \n\" id=\"m12d20e1467\" style=\"stroke:#000000;stroke-width:0.8;\"/>\n      </defs>\n      <g>\n       <use style=\"stroke:#000000;stroke-width:0.8;\" x=\"30.103125\" xlink:href=\"#m12d20e1467\" y=\"136.265484\"/>\n      </g>\n     </g>\n     <g id=\"text_7\">\n      <!-- 0.2 -->\n      <defs>\n       <path d=\"M 10.6875 12.40625 \nL 21 12.40625 \nL 21 0 \nL 10.6875 0 \nz\n\" id=\"DejaVuSans-46\"/>\n      </defs>\n      <g transform=\"translate(7.2 140.064703)scale(0.1 -0.1)\">\n       <use xlink:href=\"#DejaVuSans-48\"/>\n       <use x=\"63.623047\" xlink:href=\"#DejaVuSans-46\"/>\n       <use x=\"95.410156\" xlink:href=\"#DejaVuSans-50\"/>\n      </g>\n     </g>\n    </g>\n    <g id=\"ytick_2\">\n     <g id=\"line2d_13\">\n      <path clip-path=\"url(#pc12cc56805)\" d=\"M 30.103125 111.212231 \nL 225.403125 111.212231 \n\" style=\"fill:none;stroke:#b0b0b0;stroke-linecap:square;stroke-width:0.8;\"/>\n     </g>\n     <g id=\"line2d_14\">\n      <g>\n       <use style=\"stroke:#000000;stroke-width:0.8;\" x=\"30.103125\" xlink:href=\"#m12d20e1467\" y=\"111.212231\"/>\n      </g>\n     </g>\n     <g id=\"text_8\">\n      <!-- 0.4 -->\n      <defs>\n       <path d=\"M 37.796875 64.3125 \nL 12.890625 25.390625 \nL 37.796875 25.390625 \nz\nM 35.203125 72.90625 \nL 47.609375 72.90625 \nL 47.609375 25.390625 \nL 58.015625 25.390625 \nL 58.015625 17.1875 \nL 47.609375 17.1875 \nL 47.609375 0 \nL 37.796875 0 \nL 37.796875 17.1875 \nL 4.890625 17.1875 \nL 4.890625 26.703125 \nz\n\" id=\"DejaVuSans-52\"/>\n      </defs>\n      <g transform=\"translate(7.2 115.01145)scale(0.1 -0.1)\">\n       <use xlink:href=\"#DejaVuSans-48\"/>\n       <use x=\"63.623047\" xlink:href=\"#DejaVuSans-46\"/>\n       <use x=\"95.410156\" xlink:href=\"#DejaVuSans-52\"/>\n      </g>\n     </g>\n    </g>\n    <g id=\"ytick_3\">\n     <g id=\"line2d_15\">\n      <path clip-path=\"url(#pc12cc56805)\" d=\"M 30.103125 86.158978 \nL 225.403125 86.158978 \n\" style=\"fill:none;stroke:#b0b0b0;stroke-linecap:square;stroke-width:0.8;\"/>\n     </g>\n     <g id=\"line2d_16\">\n      <g>\n       <use style=\"stroke:#000000;stroke-width:0.8;\" x=\"30.103125\" xlink:href=\"#m12d20e1467\" y=\"86.158978\"/>\n      </g>\n     </g>\n     <g id=\"text_9\">\n      <!-- 0.6 -->\n      <defs>\n       <path d=\"M 33.015625 40.375 \nQ 26.375 40.375 22.484375 35.828125 \nQ 18.609375 31.296875 18.609375 23.390625 \nQ 18.609375 15.53125 22.484375 10.953125 \nQ 26.375 6.390625 33.015625 6.390625 \nQ 39.65625 6.390625 43.53125 10.953125 \nQ 47.40625 15.53125 47.40625 23.390625 \nQ 47.40625 31.296875 43.53125 35.828125 \nQ 39.65625 40.375 33.015625 40.375 \nz\nM 52.59375 71.296875 \nL 52.59375 62.3125 \nQ 48.875 64.0625 45.09375 64.984375 \nQ 41.3125 65.921875 37.59375 65.921875 \nQ 27.828125 65.921875 22.671875 59.328125 \nQ 17.53125 52.734375 16.796875 39.40625 \nQ 19.671875 43.65625 24.015625 45.921875 \nQ 28.375 48.1875 33.59375 48.1875 \nQ 44.578125 48.1875 50.953125 41.515625 \nQ 57.328125 34.859375 57.328125 23.390625 \nQ 57.328125 12.15625 50.6875 5.359375 \nQ 44.046875 -1.421875 33.015625 -1.421875 \nQ 20.359375 -1.421875 13.671875 8.265625 \nQ 6.984375 17.96875 6.984375 36.375 \nQ 6.984375 53.65625 15.1875 63.9375 \nQ 23.390625 74.21875 37.203125 74.21875 \nQ 40.921875 74.21875 44.703125 73.484375 \nQ 48.484375 72.75 52.59375 71.296875 \nz\n\" id=\"DejaVuSans-54\"/>\n      </defs>\n      <g transform=\"translate(7.2 89.958197)scale(0.1 -0.1)\">\n       <use xlink:href=\"#DejaVuSans-48\"/>\n       <use x=\"63.623047\" xlink:href=\"#DejaVuSans-46\"/>\n       <use x=\"95.410156\" xlink:href=\"#DejaVuSans-54\"/>\n      </g>\n     </g>\n    </g>\n    <g id=\"ytick_4\">\n     <g id=\"line2d_17\">\n      <path clip-path=\"url(#pc12cc56805)\" d=\"M 30.103125 61.105725 \nL 225.403125 61.105725 \n\" style=\"fill:none;stroke:#b0b0b0;stroke-linecap:square;stroke-width:0.8;\"/>\n     </g>\n     <g id=\"line2d_18\">\n      <g>\n       <use style=\"stroke:#000000;stroke-width:0.8;\" x=\"30.103125\" xlink:href=\"#m12d20e1467\" y=\"61.105725\"/>\n      </g>\n     </g>\n     <g id=\"text_10\">\n      <!-- 0.8 -->\n      <defs>\n       <path d=\"M 31.78125 34.625 \nQ 24.75 34.625 20.71875 30.859375 \nQ 16.703125 27.09375 16.703125 20.515625 \nQ 16.703125 13.921875 20.71875 10.15625 \nQ 24.75 6.390625 31.78125 6.390625 \nQ 38.8125 6.390625 42.859375 10.171875 \nQ 46.921875 13.96875 46.921875 20.515625 \nQ 46.921875 27.09375 42.890625 30.859375 \nQ 38.875 34.625 31.78125 34.625 \nz\nM 21.921875 38.8125 \nQ 15.578125 40.375 12.03125 44.71875 \nQ 8.5 49.078125 8.5 55.328125 \nQ 8.5 64.0625 14.71875 69.140625 \nQ 20.953125 74.21875 31.78125 74.21875 \nQ 42.671875 74.21875 48.875 69.140625 \nQ 55.078125 64.0625 55.078125 55.328125 \nQ 55.078125 49.078125 51.53125 44.71875 \nQ 48 40.375 41.703125 38.8125 \nQ 48.828125 37.15625 52.796875 32.3125 \nQ 56.78125 27.484375 56.78125 20.515625 \nQ 56.78125 9.90625 50.3125 4.234375 \nQ 43.84375 -1.421875 31.78125 -1.421875 \nQ 19.734375 -1.421875 13.25 4.234375 \nQ 6.78125 9.90625 6.78125 20.515625 \nQ 6.78125 27.484375 10.78125 32.3125 \nQ 14.796875 37.15625 21.921875 38.8125 \nz\nM 18.3125 54.390625 \nQ 18.3125 48.734375 21.84375 45.5625 \nQ 25.390625 42.390625 31.78125 42.390625 \nQ 38.140625 42.390625 41.71875 45.5625 \nQ 45.3125 48.734375 45.3125 54.390625 \nQ 45.3125 60.0625 41.71875 63.234375 \nQ 38.140625 66.40625 31.78125 66.40625 \nQ 25.390625 66.40625 21.84375 63.234375 \nQ 18.3125 60.0625 18.3125 54.390625 \nz\n\" id=\"DejaVuSans-56\"/>\n      </defs>\n      <g transform=\"translate(7.2 64.904944)scale(0.1 -0.1)\">\n       <use xlink:href=\"#DejaVuSans-48\"/>\n       <use x=\"63.623047\" xlink:href=\"#DejaVuSans-46\"/>\n       <use x=\"95.410156\" xlink:href=\"#DejaVuSans-56\"/>\n      </g>\n     </g>\n    </g>\n    <g id=\"ytick_5\">\n     <g id=\"line2d_19\">\n      <path clip-path=\"url(#pc12cc56805)\" d=\"M 30.103125 36.052472 \nL 225.403125 36.052472 \n\" style=\"fill:none;stroke:#b0b0b0;stroke-linecap:square;stroke-width:0.8;\"/>\n     </g>\n     <g id=\"line2d_20\">\n      <g>\n       <use style=\"stroke:#000000;stroke-width:0.8;\" x=\"30.103125\" xlink:href=\"#m12d20e1467\" y=\"36.052472\"/>\n      </g>\n     </g>\n     <g id=\"text_11\">\n      <!-- 1.0 -->\n      <g transform=\"translate(7.2 39.851691)scale(0.1 -0.1)\">\n       <use xlink:href=\"#DejaVuSans-49\"/>\n       <use x=\"63.623047\" xlink:href=\"#DejaVuSans-46\"/>\n       <use x=\"95.410156\" xlink:href=\"#DejaVuSans-48\"/>\n      </g>\n     </g>\n    </g>\n    <g id=\"ytick_6\">\n     <g id=\"line2d_21\">\n      <path clip-path=\"url(#pc12cc56805)\" d=\"M 30.103125 10.999219 \nL 225.403125 10.999219 \n\" style=\"fill:none;stroke:#b0b0b0;stroke-linecap:square;stroke-width:0.8;\"/>\n     </g>\n     <g id=\"line2d_22\">\n      <g>\n       <use style=\"stroke:#000000;stroke-width:0.8;\" x=\"30.103125\" xlink:href=\"#m12d20e1467\" y=\"10.999219\"/>\n      </g>\n     </g>\n     <g id=\"text_12\">\n      <!-- 1.2 -->\n      <g transform=\"translate(7.2 14.798437)scale(0.1 -0.1)\">\n       <use xlink:href=\"#DejaVuSans-49\"/>\n       <use x=\"63.623047\" xlink:href=\"#DejaVuSans-46\"/>\n       <use x=\"95.410156\" xlink:href=\"#DejaVuSans-50\"/>\n      </g>\n     </g>\n    </g>\n   </g>\n   <g id=\"line2d_23\">\n    <path clip-path=\"url(#pc12cc56805)\" d=\"M 32.139231 15.912589 \nL 34.216891 51.950671 \nL 36.294551 67.173263 \nL 38.37221 75.583414 \nL 41.904231 107.031837 \nL 43.981891 107.333124 \nL 46.059551 108.40277 \nL 48.13721 108.943046 \nL 51.669231 114.867996 \nL 53.746891 114.734795 \nL 55.824551 114.803853 \nL 57.90221 114.430058 \nL 61.434231 116.44524 \nL 63.511891 117.444935 \nL 65.589551 117.91405 \nL 67.66721 117.95249 \nL 71.199231 120.221151 \nL 73.276891 120.789846 \nL 75.354551 120.506113 \nL 77.43221 120.270645 \nL 80.964231 122.105156 \nL 83.041891 122.233587 \nL 85.119551 122.735997 \nL 87.19721 122.870958 \nL 90.729231 123.700511 \nL 92.806891 124.539765 \nL 94.884551 124.61768 \nL 96.96221 124.736678 \nL 100.494231 125.809976 \nL 102.571891 126.26536 \nL 104.649551 126.28296 \nL 106.72721 126.185156 \nL 110.259231 127.538214 \nL 112.336891 127.839651 \nL 114.414551 127.888481 \nL 116.49221 127.592205 \nL 120.024231 129.357566 \nL 122.101891 129.840509 \nL 124.179551 129.995672 \nL 126.25721 129.611948 \nL 129.789231 130.653617 \nL 131.866891 131.165191 \nL 133.944551 130.862899 \nL 136.02221 131.086358 \nL 139.554231 132.473645 \nL 141.631891 132.376316 \nL 143.709551 132.161985 \nL 145.78721 131.978338 \nL 149.319231 132.395755 \nL 151.396891 132.824326 \nL 153.474551 132.925516 \nL 155.55221 132.638547 \nL 159.084231 134.792533 \nL 161.161891 134.364079 \nL 163.239551 134.241287 \nL 165.31721 134.122999 \nL 168.849231 135.950531 \nL 170.926891 135.421915 \nL 173.004551 134.958994 \nL 175.08221 134.730151 \nL 178.614231 136.971388 \nL 180.691891 136.735629 \nL 182.769551 136.318699 \nL 184.84721 136.380659 \nL 188.379231 137.537215 \nL 190.456891 136.914906 \nL 192.534551 136.970951 \nL 194.61221 136.769803 \nL 198.144231 138.240824 \nL 200.221891 138.105138 \nL 202.299551 137.553637 \nL 204.37721 137.11567 \nL 207.909231 138.361395 \nL 209.986891 137.906551 \nL 212.064551 138.187759 \nL 214.14221 138.212249 \nL 217.674231 139.350191 \nL 219.751891 139.458044 \nL 221.829551 139.195732 \nL 223.90721 139.059602 \n\" style=\"fill:none;stroke:#1f77b4;stroke-linecap:square;stroke-width:1.5;\"/>\n   </g>\n   <g id=\"line2d_24\">\n    <path clip-path=\"url(#pc12cc56805)\" d=\"M 32.139231 79.0051 \nL 34.216891 71.141706 \nL 36.294551 67.14395 \nL 38.37221 64.976257 \nL 41.904231 55.8602 \nL 43.981891 55.967851 \nL 46.059551 55.462219 \nL 48.13721 55.153131 \nL 51.669231 52.836194 \nL 53.746891 53.120001 \nL 55.824551 53.071068 \nL 57.90221 53.323069 \nL 61.434231 53.031923 \nL 63.511891 52.689398 \nL 65.589551 52.366446 \nL 67.66721 52.246562 \nL 71.199231 51.955416 \nL 73.276891 51.500347 \nL 75.354551 51.567221 \nL 77.43221 51.666716 \nL 80.964231 50.790831 \nL 83.041891 50.829977 \nL 85.119551 50.59184 \nL 87.19721 50.440966 \nL 90.729231 49.86112 \nL 92.806891 49.817081 \nL 94.884551 49.838285 \nL 96.96221 49.804848 \nL 100.494231 49.195643 \nL 102.571891 49.283721 \nL 104.649551 49.29677 \nL 106.72721 49.32776 \nL 110.259231 48.686749 \nL 112.336891 48.721002 \nL 114.414551 48.65739 \nL 116.49221 48.762594 \nL 120.024231 48.050631 \nL 122.101891 47.933194 \nL 124.179551 47.959291 \nL 126.25721 48.155835 \nL 129.789231 47.580883 \nL 131.866891 47.536844 \nL 133.944551 47.779874 \nL 136.02221 47.656728 \nL 139.554231 47.248144 \nL 141.631891 47.071989 \nL 143.709551 47.107872 \nL 145.78721 47.177193 \nL 149.319231 46.719677 \nL 151.396891 46.89094 \nL 153.474551 46.732726 \nL 155.55221 46.939872 \nL 159.084231 45.819326 \nL 161.161891 46.186317 \nL 163.239551 46.155327 \nL 165.31721 46.259715 \nL 168.849231 45.789967 \nL 170.926891 45.843792 \nL 173.004551 45.956336 \nL 175.08221 46.08356 \nL 178.614231 44.967907 \nL 180.691891 45.359364 \nL 182.769551 45.568141 \nL 184.84721 45.564879 \nL 188.379231 45.065771 \nL 190.456891 45.285966 \nL 192.534551 45.310432 \nL 194.61221 45.374044 \nL 198.144231 45.222354 \nL 200.221891 45.060878 \nL 202.299551 45.17016 \nL 204.37721 45.352024 \nL 207.909231 44.644955 \nL 209.986891 44.840683 \nL 212.064551 44.693887 \nL 214.14221 44.735479 \nL 217.674231 44.057769 \nL 219.751891 44.072449 \nL 221.829551 44.181731 \nL 223.90721 44.339129 \n\" style=\"fill:none;stroke:#bf00bf;stroke-dasharray:5.55,2.4;stroke-dashoffset:0;stroke-width:1.5;\"/>\n   </g>\n   <g id=\"line2d_25\">\n    <path clip-path=\"url(#pc12cc56805)\" d=\"M 39.868125 54.930098 \nL 49.633125 53.21395 \nL 59.398125 51.673175 \nL 69.163125 52.099081 \nL 78.928125 52.224347 \nL 88.693125 52.124134 \nL 98.458125 50.157453 \nL 108.223125 50.370406 \nL 117.988125 49.468489 \nL 127.753125 49.731548 \nL 137.518125 50.1324 \nL 147.283125 49.518595 \nL 157.048125 48.929844 \nL 166.813125 49.24301 \nL 176.578125 49.28059 \nL 186.343125 48.867211 \nL 196.108125 49.20543 \nL 205.873125 48.604152 \nL 215.638125 48.754471 \nL 225.403125 48.579098 \n\" style=\"fill:none;stroke:#008000;stroke-dasharray:9.6,2.4,1.5,2.4;stroke-dashoffset:0;stroke-width:1.5;\"/>\n   </g>\n   <g id=\"patch_3\">\n    <path d=\"M 30.103125 145.635316 \nL 30.103125 9.735316 \n\" style=\"fill:none;stroke:#000000;stroke-linecap:square;stroke-linejoin:miter;stroke-width:0.8;\"/>\n   </g>\n   <g id=\"patch_4\">\n    <path d=\"M 225.403125 145.635316 \nL 225.403125 9.735316 \n\" style=\"fill:none;stroke:#000000;stroke-linecap:square;stroke-linejoin:miter;stroke-width:0.8;\"/>\n   </g>\n   <g id=\"patch_5\">\n    <path d=\"M 30.103125 145.635316 \nL 225.403125 145.635316 \n\" style=\"fill:none;stroke:#000000;stroke-linecap:square;stroke-linejoin:miter;stroke-width:0.8;\"/>\n   </g>\n   <g id=\"patch_6\">\n    <path d=\"M 30.103125 9.735316 \nL 225.403125 9.735316 \n\" style=\"fill:none;stroke:#000000;stroke-linecap:square;stroke-linejoin:miter;stroke-width:0.8;\"/>\n   </g>\n   <g id=\"legend_1\">\n    <g id=\"patch_7\">\n     <path d=\"M 140.634375 101.202504 \nL 218.403125 101.202504 \nQ 220.403125 101.202504 220.403125 99.202504 \nL 220.403125 56.168129 \nQ 220.403125 54.168129 218.403125 54.168129 \nL 140.634375 54.168129 \nQ 138.634375 54.168129 138.634375 56.168129 \nL 138.634375 99.202504 \nQ 138.634375 101.202504 140.634375 101.202504 \nz\n\" style=\"fill:#ffffff;opacity:0.8;stroke:#cccccc;stroke-linejoin:miter;\"/>\n    </g>\n    <g id=\"line2d_26\">\n     <path d=\"M 142.634375 62.266566 \nL 162.634375 62.266566 \n\" style=\"fill:none;stroke:#1f77b4;stroke-linecap:square;stroke-width:1.5;\"/>\n    </g>\n    <g id=\"line2d_27\"/>\n    <g id=\"text_13\">\n     <!-- train loss -->\n     <defs>\n      <path d=\"M 18.3125 70.21875 \nL 18.3125 54.6875 \nL 36.8125 54.6875 \nL 36.8125 47.703125 \nL 18.3125 47.703125 \nL 18.3125 18.015625 \nQ 18.3125 11.328125 20.140625 9.421875 \nQ 21.96875 7.515625 27.59375 7.515625 \nL 36.8125 7.515625 \nL 36.8125 0 \nL 27.59375 0 \nQ 17.1875 0 13.234375 3.875 \nQ 9.28125 7.765625 9.28125 18.015625 \nL 9.28125 47.703125 \nL 2.6875 47.703125 \nL 2.6875 54.6875 \nL 9.28125 54.6875 \nL 9.28125 70.21875 \nz\n\" id=\"DejaVuSans-116\"/>\n      <path d=\"M 41.109375 46.296875 \nQ 39.59375 47.171875 37.8125 47.578125 \nQ 36.03125 48 33.890625 48 \nQ 26.265625 48 22.1875 43.046875 \nQ 18.109375 38.09375 18.109375 28.8125 \nL 18.109375 0 \nL 9.078125 0 \nL 9.078125 54.6875 \nL 18.109375 54.6875 \nL 18.109375 46.1875 \nQ 20.953125 51.171875 25.484375 53.578125 \nQ 30.03125 56 36.53125 56 \nQ 37.453125 56 38.578125 55.875 \nQ 39.703125 55.765625 41.0625 55.515625 \nz\n\" id=\"DejaVuSans-114\"/>\n      <path d=\"M 34.28125 27.484375 \nQ 23.390625 27.484375 19.1875 25 \nQ 14.984375 22.515625 14.984375 16.5 \nQ 14.984375 11.71875 18.140625 8.90625 \nQ 21.296875 6.109375 26.703125 6.109375 \nQ 34.1875 6.109375 38.703125 11.40625 \nQ 43.21875 16.703125 43.21875 25.484375 \nL 43.21875 27.484375 \nz\nM 52.203125 31.203125 \nL 52.203125 0 \nL 43.21875 0 \nL 43.21875 8.296875 \nQ 40.140625 3.328125 35.546875 0.953125 \nQ 30.953125 -1.421875 24.3125 -1.421875 \nQ 15.921875 -1.421875 10.953125 3.296875 \nQ 6 8.015625 6 15.921875 \nQ 6 25.140625 12.171875 29.828125 \nQ 18.359375 34.515625 30.609375 34.515625 \nL 43.21875 34.515625 \nL 43.21875 35.40625 \nQ 43.21875 41.609375 39.140625 45 \nQ 35.0625 48.390625 27.6875 48.390625 \nQ 23 48.390625 18.546875 47.265625 \nQ 14.109375 46.140625 10.015625 43.890625 \nL 10.015625 52.203125 \nQ 14.9375 54.109375 19.578125 55.046875 \nQ 24.21875 56 28.609375 56 \nQ 40.484375 56 46.34375 49.84375 \nQ 52.203125 43.703125 52.203125 31.203125 \nz\n\" id=\"DejaVuSans-97\"/>\n      <path d=\"M 9.421875 54.6875 \nL 18.40625 54.6875 \nL 18.40625 0 \nL 9.421875 0 \nz\nM 9.421875 75.984375 \nL 18.40625 75.984375 \nL 18.40625 64.59375 \nL 9.421875 64.59375 \nz\n\" id=\"DejaVuSans-105\"/>\n      <path d=\"M 54.890625 33.015625 \nL 54.890625 0 \nL 45.90625 0 \nL 45.90625 32.71875 \nQ 45.90625 40.484375 42.875 44.328125 \nQ 39.84375 48.1875 33.796875 48.1875 \nQ 26.515625 48.1875 22.3125 43.546875 \nQ 18.109375 38.921875 18.109375 30.90625 \nL 18.109375 0 \nL 9.078125 0 \nL 9.078125 54.6875 \nL 18.109375 54.6875 \nL 18.109375 46.1875 \nQ 21.34375 51.125 25.703125 53.5625 \nQ 30.078125 56 35.796875 56 \nQ 45.21875 56 50.046875 50.171875 \nQ 54.890625 44.34375 54.890625 33.015625 \nz\n\" id=\"DejaVuSans-110\"/>\n      <path id=\"DejaVuSans-32\"/>\n      <path d=\"M 9.421875 75.984375 \nL 18.40625 75.984375 \nL 18.40625 0 \nL 9.421875 0 \nz\n\" id=\"DejaVuSans-108\"/>\n      <path d=\"M 44.28125 53.078125 \nL 44.28125 44.578125 \nQ 40.484375 46.53125 36.375 47.5 \nQ 32.28125 48.484375 27.875 48.484375 \nQ 21.1875 48.484375 17.84375 46.4375 \nQ 14.5 44.390625 14.5 40.28125 \nQ 14.5 37.15625 16.890625 35.375 \nQ 19.28125 33.59375 26.515625 31.984375 \nL 29.59375 31.296875 \nQ 39.15625 29.25 43.1875 25.515625 \nQ 47.21875 21.78125 47.21875 15.09375 \nQ 47.21875 7.46875 41.1875 3.015625 \nQ 35.15625 -1.421875 24.609375 -1.421875 \nQ 20.21875 -1.421875 15.453125 -0.5625 \nQ 10.6875 0.296875 5.421875 2 \nL 5.421875 11.28125 \nQ 10.40625 8.6875 15.234375 7.390625 \nQ 20.0625 6.109375 24.8125 6.109375 \nQ 31.15625 6.109375 34.5625 8.28125 \nQ 37.984375 10.453125 37.984375 14.40625 \nQ 37.984375 18.0625 35.515625 20.015625 \nQ 33.0625 21.96875 24.703125 23.78125 \nL 21.578125 24.515625 \nQ 13.234375 26.265625 9.515625 29.90625 \nQ 5.8125 33.546875 5.8125 39.890625 \nQ 5.8125 47.609375 11.28125 51.796875 \nQ 16.75 56 26.8125 56 \nQ 31.78125 56 36.171875 55.265625 \nQ 40.578125 54.546875 44.28125 53.078125 \nz\n\" id=\"DejaVuSans-115\"/>\n     </defs>\n     <g transform=\"translate(170.634375 65.766566)scale(0.1 -0.1)\">\n      <use xlink:href=\"#DejaVuSans-116\"/>\n      <use x=\"39.208984\" xlink:href=\"#DejaVuSans-114\"/>\n      <use x=\"80.322266\" xlink:href=\"#DejaVuSans-97\"/>\n      <use x=\"141.601562\" xlink:href=\"#DejaVuSans-105\"/>\n      <use x=\"169.384766\" xlink:href=\"#DejaVuSans-110\"/>\n      <use x=\"232.763672\" xlink:href=\"#DejaVuSans-32\"/>\n      <use x=\"264.550781\" xlink:href=\"#DejaVuSans-108\"/>\n      <use x=\"292.333984\" xlink:href=\"#DejaVuSans-111\"/>\n      <use x=\"353.515625\" xlink:href=\"#DejaVuSans-115\"/>\n      <use x=\"405.615234\" xlink:href=\"#DejaVuSans-115\"/>\n     </g>\n    </g>\n    <g id=\"line2d_28\">\n     <path d=\"M 142.634375 76.944691 \nL 162.634375 76.944691 \n\" style=\"fill:none;stroke:#bf00bf;stroke-dasharray:5.55,2.4;stroke-dashoffset:0;stroke-width:1.5;\"/>\n    </g>\n    <g id=\"line2d_29\"/>\n    <g id=\"text_14\">\n     <!-- train acc -->\n     <g transform=\"translate(170.634375 80.444691)scale(0.1 -0.1)\">\n      <use xlink:href=\"#DejaVuSans-116\"/>\n      <use x=\"39.208984\" xlink:href=\"#DejaVuSans-114\"/>\n      <use x=\"80.322266\" xlink:href=\"#DejaVuSans-97\"/>\n      <use x=\"141.601562\" xlink:href=\"#DejaVuSans-105\"/>\n      <use x=\"169.384766\" xlink:href=\"#DejaVuSans-110\"/>\n      <use x=\"232.763672\" xlink:href=\"#DejaVuSans-32\"/>\n      <use x=\"264.550781\" xlink:href=\"#DejaVuSans-97\"/>\n      <use x=\"325.830078\" xlink:href=\"#DejaVuSans-99\"/>\n      <use x=\"380.810547\" xlink:href=\"#DejaVuSans-99\"/>\n     </g>\n    </g>\n    <g id=\"line2d_30\">\n     <path d=\"M 142.634375 91.622816 \nL 162.634375 91.622816 \n\" style=\"fill:none;stroke:#008000;stroke-dasharray:9.6,2.4,1.5,2.4;stroke-dashoffset:0;stroke-width:1.5;\"/>\n    </g>\n    <g id=\"line2d_31\"/>\n    <g id=\"text_15\">\n     <!-- test acc -->\n     <g transform=\"translate(170.634375 95.122816)scale(0.1 -0.1)\">\n      <use xlink:href=\"#DejaVuSans-116\"/>\n      <use x=\"39.208984\" xlink:href=\"#DejaVuSans-101\"/>\n      <use x=\"100.732422\" xlink:href=\"#DejaVuSans-115\"/>\n      <use x=\"152.832031\" xlink:href=\"#DejaVuSans-116\"/>\n      <use x=\"192.041016\" xlink:href=\"#DejaVuSans-32\"/>\n      <use x=\"223.828125\" xlink:href=\"#DejaVuSans-97\"/>\n      <use x=\"285.107422\" xlink:href=\"#DejaVuSans-99\"/>\n      <use x=\"340.087891\" xlink:href=\"#DejaVuSans-99\"/>\n     </g>\n    </g>\n   </g>\n  </g>\n </g>\n <defs>\n  <clipPath id=\"pc12cc56805\">\n   <rect height=\"135.9\" width=\"195.3\" x=\"30.103125\" y=\"9.735316\"/>\n  </clipPath>\n </defs>\n</svg>\n"
          },
          "metadata": {
            "needs_background": "light"
          }
        }
      ]
    }
  ]
}